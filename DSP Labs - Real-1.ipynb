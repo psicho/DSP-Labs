{
 "cells": [
  {
   "cell_type": "markdown",
   "metadata": {},
   "source": [
    "##### Функция выборки и обработки файлов"
   ]
  },
  {
   "cell_type": "code",
   "execution_count": 1,
   "metadata": {
    "collapsed": true
   },
   "outputs": [],
   "source": [
    "import os\n",
    "\n",
    "def analise(file):\n",
    "    files = os.listdir(path=file)\n",
    "    person = []\n",
    "    table = []\n",
    "    temp = []\n",
    "    for i in range(len(files)):\n",
    "        person.append(str(files[i])[:4])\n",
    "        with open(file+'/'+files[i],'r') as f:\n",
    "            for line in f:\n",
    "                line = str(line).replace(' [ ','').replace(' ]','').replace('\\n','')\n",
    "                line = line.split(' ')\n",
    "                for j in range(len(line)):\n",
    "                    line[j] = float(line[j])\n",
    "                table.append(line)\n",
    "    return person, table"
   ]
  },
  {
   "cell_type": "markdown",
   "metadata": {},
   "source": [
    "##### Импорт библиотек"
   ]
  },
  {
   "cell_type": "code",
   "execution_count": 2,
   "metadata": {
    "collapsed": true
   },
   "outputs": [],
   "source": [
    "import numpy as np\n",
    "import matplotlib.pyplot as plt\n",
    "%matplotlib inline\n",
    "import pandas as pd\n",
    "# import mglearn\n",
    "from IPython.display import display\n",
    "plt.rc('font', family='Verdana')\n",
    "import sklearn"
   ]
  },
  {
   "cell_type": "markdown",
   "metadata": {},
   "source": [
    "##### Обработка тестовой выборки"
   ]
  },
  {
   "cell_type": "code",
   "execution_count": 3,
   "metadata": {},
   "outputs": [
    {
     "name": "stdout",
     "output_type": "stream",
     "text": [
      "953 953\n",
      "['0095' '0095' '0095' '0095' '0095' '0095' '0095' '0095' '0095' '0096']\n",
      "[ 2.1516    0.643147  1.1872   -0.396718 -1.92148   1.68661   2.19098\n",
      "  0.75515  -2.07515   0.736695]\n"
     ]
    }
   ],
   "source": [
    "person, table = analise('test_db')\n",
    "# print(person1[:10])\n",
    "person = np.array(person)\n",
    "table = np.array(table)\n",
    "\n",
    "print(len(person), len(table))\n",
    "print(person[:10])\n",
    "print(table[0][:10])\n",
    "\n",
    "# print(len(table[0]))\n",
    "# print(len(table[1]))\n",
    "# print(len(person))\n",
    "# print(len(table))\n",
    "# print(person)"
   ]
  },
  {
   "cell_type": "code",
   "execution_count": 6,
   "metadata": {},
   "outputs": [
    {
     "name": "stdout",
     "output_type": "stream",
     "text": [
      "(953,) (953, 400)\n"
     ]
    }
   ],
   "source": [
    "print(person.shape, table.shape)"
   ]
  },
  {
   "cell_type": "markdown",
   "metadata": {},
   "source": [
    "##### Обработка обучающей выборки"
   ]
  },
  {
   "cell_type": "code",
   "execution_count": 8,
   "metadata": {},
   "outputs": [
    {
     "name": "stdout",
     "output_type": "stream",
     "text": [
      "52284 52284\n",
      "['0001' '0001' '0001' '0001' '0001' '0001' '0001' '0001' '0001' '0001']\n",
      "[ 1.76204   1.7534   -0.558433  0.746582 -2.34514   1.54503   0.918075\n",
      " -0.998263 -1.50152   1.25771 ]\n"
     ]
    }
   ],
   "source": [
    "person1, table1 = analise('train_db')\n",
    "# print(person1[:10])\n",
    "person1 = np.array(person1)\n",
    "table1 = np.array(table1)\n",
    "\n",
    "print(len(person1), len(table1))\n",
    "print(person1[:10])\n",
    "print(table1[0][:10])"
   ]
  },
  {
   "cell_type": "code",
   "execution_count": 9,
   "metadata": {},
   "outputs": [
    {
     "data": {
      "text/plain": [
       "((52284,), (52284, 400))"
      ]
     },
     "execution_count": 9,
     "metadata": {},
     "output_type": "execute_result"
    }
   ],
   "source": [
    "person1.shape, table1.shape"
   ]
  },
  {
   "cell_type": "markdown",
   "metadata": {
    "collapsed": true
   },
   "source": [
    "##### Случайный лес"
   ]
  },
  {
   "cell_type": "code",
   "execution_count": 10,
   "metadata": {
    "collapsed": true
   },
   "outputs": [],
   "source": [
    "from sklearn.ensemble import RandomForestClassifier\n",
    "from sklearn.model_selection import train_test_split\n",
    "\n",
    "from sklearn.preprocessing import MinMaxScaler\n",
    "from sklearn.preprocessing import StandardScaler"
   ]
  },
  {
   "cell_type": "code",
   "execution_count": 11,
   "metadata": {},
   "outputs": [
    {
     "name": "stdout",
     "output_type": "stream",
     "text": [
      "Правильность на обучающем наборе: 1.000\n",
      "Правильность на тестовом наборе: 0.910\n"
     ]
    }
   ],
   "source": [
    "X_train, X_test, y_train, y_test = train_test_split(table1, person1, random_state=0)\n",
    "\n",
    "forest = RandomForestClassifier(n_estimators=700, random_state=0, n_jobs=-1) #, max_depth=4)\n",
    "\n",
    "scaled = StandardScaler()\n",
    "scaled.fit(X_train)\n",
    "\n",
    "X_train = scaled.transform(X_train)\n",
    "X_test = scaled.transform(X_test)\n",
    "X_test1 = scaled.transform(table)\n",
    "\n",
    "forest.fit(X_train, y_train)\n",
    "\n",
    "print(\"Правильность на обучающем наборе: {:.3f}\".format(forest.score(X_train, y_train)))\n",
    "print(\"Правильность на тестовом наборе: {:.3f}\".format(forest.score(X_test, y_test)))"
   ]
  },
  {
   "cell_type": "code",
   "execution_count": 13,
   "metadata": {},
   "outputs": [
    {
     "data": {
      "text/plain": [
       "['RandomForest.pkl']"
      ]
     },
     "execution_count": 13,
     "metadata": {},
     "output_type": "execute_result"
    }
   ],
   "source": [
    "from sklearn.externals import joblib\n",
    "joblib.dump(forest, 'RandomForest.pkl') "
   ]
  },
  {
   "cell_type": "code",
   "execution_count": null,
   "metadata": {
    "collapsed": true
   },
   "outputs": [],
   "source": [
    "forest = joblib.load('RandomForest.pkl')"
   ]
  },
  {
   "cell_type": "code",
   "execution_count": 14,
   "metadata": {},
   "outputs": [
    {
     "name": "stdout",
     "output_type": "stream",
     "text": [
      "0.03606462781304097 0.021268101391415276\n"
     ]
    }
   ],
   "source": [
    "predict = forest.predict(table)\n",
    "\n",
    "prover = {}\n",
    "\n",
    "err1 = []\n",
    "err1_count = []\n",
    "t1 = 1\n",
    "\n",
    "err2 = []\n",
    "err2_count = []\n",
    "t2 = 1\n",
    "\n",
    "for i in range(len(predict)):\n",
    "    for j in range(len(predict)):\n",
    "        if i == j:\n",
    "            continue\n",
    "            \n",
    "        if str(i)+str(j) in prover:\n",
    "            prover[str(i)+str(j)] += 1\n",
    "            continue\n",
    "        else:\n",
    "            prover[str(i)+str(j)] = 1\n",
    "            prover[str(j)+str(i)] = 1\n",
    "#             print(len(prover))\n",
    "       \n",
    "        if person[i] == person[j]:\n",
    "            err1_count.append(1)\n",
    "#             if predict[i] != predict[j]:\n",
    "            if abs(int(predict[i])-int(predict[j])) > 120:\n",
    "                err1.append(t1)\n",
    "                t1 += 1\n",
    "        if person[i] != person[j]:\n",
    "            err2_count.append(1)\n",
    "            if predict[i] == predict[j]:\n",
    "                err2.append(t2)\n",
    "                t2 += 1\n",
    "print(len(err1)/len(err1_count), len(err2)/len(err2_count))"
   ]
  }
 ],
 "metadata": {
  "anaconda-cloud": {},
  "kernelspec": {
   "display_name": "Python 3",
   "language": "python",
   "name": "python3"
  },
  "language_info": {
   "codemirror_mode": {
    "name": "ipython",
    "version": 3
   },
   "file_extension": ".py",
   "mimetype": "text/x-python",
   "name": "python",
   "nbconvert_exporter": "python",
   "pygments_lexer": "ipython3",
   "version": "3.6.1"
  }
 },
 "nbformat": 4,
 "nbformat_minor": 1
}
