{
 "cells": [
  {
   "cell_type": "code",
   "execution_count": 2,
   "metadata": {
    "collapsed": true
   },
   "outputs": [],
   "source": [
    "import numpy as np\n",
    "import pandas as pd\n",
    "from datetime import datetime, date, time, timedelta\n",
    "\n",
    "df = pd.read_csv('bigdata.csv')\n",
    "# df = pd.read_csv('bigdata_time.csv')"
   ]
  },
  {
   "cell_type": "code",
   "execution_count": 3,
   "metadata": {},
   "outputs": [
    {
     "data": {
      "text/html": [
       "<div>\n",
       "<style>\n",
       "    .dataframe thead tr:only-child th {\n",
       "        text-align: right;\n",
       "    }\n",
       "\n",
       "    .dataframe thead th {\n",
       "        text-align: left;\n",
       "    }\n",
       "\n",
       "    .dataframe tbody tr th {\n",
       "        vertical-align: top;\n",
       "    }\n",
       "</style>\n",
       "<table border=\"1\" class=\"dataframe\">\n",
       "  <thead>\n",
       "    <tr style=\"text-align: right;\">\n",
       "      <th></th>\n",
       "      <th>Time</th>\n",
       "      <th>PRICE</th>\n",
       "      <th>SIZE</th>\n",
       "      <th>EXCHANGE</th>\n",
       "    </tr>\n",
       "  </thead>\n",
       "  <tbody>\n",
       "    <tr>\n",
       "      <th>0</th>\n",
       "      <td>10:00:00.009</td>\n",
       "      <td>135.14</td>\n",
       "      <td>100</td>\n",
       "      <td>V</td>\n",
       "    </tr>\n",
       "    <tr>\n",
       "      <th>1</th>\n",
       "      <td>10:00:00.010</td>\n",
       "      <td>135.14</td>\n",
       "      <td>100</td>\n",
       "      <td>V</td>\n",
       "    </tr>\n",
       "    <tr>\n",
       "      <th>2</th>\n",
       "      <td>10:00:00.013</td>\n",
       "      <td>135.13</td>\n",
       "      <td>100</td>\n",
       "      <td>D</td>\n",
       "    </tr>\n",
       "    <tr>\n",
       "      <th>3</th>\n",
       "      <td>10:00:00.015</td>\n",
       "      <td>135.13</td>\n",
       "      <td>300</td>\n",
       "      <td>D</td>\n",
       "    </tr>\n",
       "    <tr>\n",
       "      <th>4</th>\n",
       "      <td>10:00:00.016</td>\n",
       "      <td>135.13</td>\n",
       "      <td>150</td>\n",
       "      <td>D</td>\n",
       "    </tr>\n",
       "  </tbody>\n",
       "</table>\n",
       "</div>"
      ],
      "text/plain": [
       "           Time   PRICE  SIZE EXCHANGE\n",
       "0  10:00:00.009  135.14   100        V\n",
       "1  10:00:00.010  135.14   100        V\n",
       "2  10:00:00.013  135.13   100        D\n",
       "3  10:00:00.015  135.13   300        D\n",
       "4  10:00:00.016  135.13   150        D"
      ]
     },
     "execution_count": 3,
     "metadata": {},
     "output_type": "execute_result"
    }
   ],
   "source": [
    "df.head()"
   ]
  },
  {
   "cell_type": "code",
   "execution_count": 4,
   "metadata": {
    "scrolled": true
   },
   "outputs": [
    {
     "name": "stderr",
     "output_type": "stream",
     "text": [
      "C:\\Users\\ANDREY.FENOMEN\\Anaconda3\\lib\\site-packages\\ipykernel_launcher.py:4: SettingWithCopyWarning: \n",
      "A value is trying to be set on a copy of a slice from a DataFrame\n",
      "\n",
      "See the caveats in the documentation: http://pandas.pydata.org/pandas-docs/stable/indexing.html#indexing-view-versus-copy\n",
      "  after removing the cwd from sys.path.\n"
     ]
    }
   ],
   "source": [
    "# df['Time'] = datetime.strptime(df['Time'].iloc[1], '%H:%M:%S.%f')\n",
    "j = 0\n",
    "for i in df['Time']:\n",
    "    df['Time'][j] = datetime.strptime(i, '%H:%M:%S.%f')\n",
    "    j += 1\n",
    "\n",
    "# df['Time'] =df['Time'].strftime('%H:%M:%S.%f')\n",
    "# n = df['Time'].strftime('%H:%M:%S.%f')\n",
    "# n\n",
    "# df['Time']"
   ]
  },
  {
   "cell_type": "code",
   "execution_count": 5,
   "metadata": {
    "collapsed": true
   },
   "outputs": [],
   "source": [
    "df.to_csv('bigdata_time.csv')"
   ]
  },
  {
   "cell_type": "code",
   "execution_count": 6,
   "metadata": {},
   "outputs": [
    {
     "data": {
      "text/plain": [
       "(9993, 4)"
      ]
     },
     "execution_count": 6,
     "metadata": {},
     "output_type": "execute_result"
    }
   ],
   "source": [
    "df.shape"
   ]
  },
  {
   "cell_type": "code",
   "execution_count": 7,
   "metadata": {},
   "outputs": [
    {
     "data": {
      "text/plain": [
       "datetime.timedelta(0, 958, 597000)"
      ]
     },
     "execution_count": 7,
     "metadata": {},
     "output_type": "execute_result"
    }
   ],
   "source": [
    "timer = df['Time'][9992] - df['Time'][0]\n",
    "# t1.year, t1.month, t1.day, t1.hour, t1.minute, t1.second\n",
    "timer"
   ]
  },
  {
   "cell_type": "markdown",
   "metadata": {},
   "source": [
    "##### Количество сделок за промежуток времени 12:01:08.104 и 12:01:09.103"
   ]
  },
  {
   "cell_type": "markdown",
   "metadata": {},
   "source": [
    "Функция по расчёту максимального количества сделок"
   ]
  },
  {
   "cell_type": "code",
   "execution_count": 118,
   "metadata": {
    "collapsed": true
   },
   "outputs": [],
   "source": [
    "def maxtrans(start, stop, df=df):\n",
    "    return df[(df['Time'] >= start) & (df['Time'] <= stop)]['EXCHANGE'].count()"
   ]
  },
  {
   "cell_type": "code",
   "execution_count": 9,
   "metadata": {},
   "outputs": [
    {
     "data": {
      "text/plain": [
       "23"
      ]
     },
     "execution_count": 9,
     "metadata": {},
     "output_type": "execute_result"
    }
   ],
   "source": [
    "s = maxtrans(datetime(1900, 1, 1, 10, 1, 8, 104), datetime(1900, 1, 1, 10, 1, 9, 103))\n",
    "s"
   ]
  },
  {
   "cell_type": "markdown",
   "metadata": {},
   "source": [
    "##### Групировка количества сделок по биржам"
   ]
  },
  {
   "cell_type": "markdown",
   "metadata": {
    "collapsed": true
   },
   "source": [
    "Функция группировки сделок по биржам"
   ]
  },
  {
   "cell_type": "code",
   "execution_count": 100,
   "metadata": {
    "collapsed": true
   },
   "outputs": [],
   "source": [
    "def drouped(start, stop, df=df):\n",
    "    return df[(df['Time'] >= start) & (df['Time'] <= stop)].groupby(df['EXCHANGE'])['EXCHANGE'].count()\n",
    "\n",
    "# drouped = df[(df['Time'] >= datetime(1900, 1, 1, 10, 1, 8, 104)) & (df['Time'] <= datetime(1900, 1, 1, 10, 1, 9, 103))].groupby(df['EXCHANGE'])['EXCHANGE'].count()"
   ]
  },
  {
   "cell_type": "markdown",
   "metadata": {},
   "source": [
    "##### Предварительный \"грубый\" поиск максимального количества сделог (шаг 1 секунда)"
   ]
  },
  {
   "cell_type": "code",
   "execution_count": 124,
   "metadata": {},
   "outputs": [],
   "source": [
    "delta = timedelta(seconds = 1)\n",
    "\n",
    "def firstparse(delta, df=df, t1=0, t2=9992):\n",
    "    timer = df['Time'][t2] - df['Time'][t1]\n",
    "#     print('timer', timer.seconds)\n",
    "    timestart = df['Time'][t1]\n",
    "    timeend = df['Time'][t2]\n",
    "    transcount = 0\n",
    "\n",
    "    bigtimestart = 0\n",
    "\n",
    "    for i in range(timer.seconds):\n",
    "        timestep = timestart + delta\n",
    "        if timestep <= timeend:\n",
    "            n = maxtrans(timestart, timestep, df)\n",
    "            if n > transcount:\n",
    "                transcount = n\n",
    "                bigtimestart = timestart\n",
    "#                 print(transcount, bigtimestart)\n",
    "        else:\n",
    "            break\n",
    "        timestart = timestep\n",
    "    print(transcount, bigtimestart)\n",
    "    return bigtimestart"
   ]
  },
  {
   "cell_type": "code",
   "execution_count": 125,
   "metadata": {},
   "outputs": [
    {
     "name": "stdout",
     "output_type": "stream",
     "text": [
      "479 1900-01-01 10:02:00.009000\n"
     ]
    },
    {
     "data": {
      "text/plain": [
       "datetime.datetime(1900, 1, 1, 10, 2, 0, 9000)"
      ]
     },
     "execution_count": 125,
     "metadata": {},
     "output_type": "execute_result"
    }
   ],
   "source": [
    "firstparse(delta)"
   ]
  },
  {
   "cell_type": "code",
   "execution_count": 68,
   "metadata": {
    "collapsed": true
   },
   "outputs": [],
   "source": [
    "def shaping(start, stop):\n",
    "    n = df[(df['Time'] >= start) & (df['Time'] <= stop)].shape[0]\n",
    "    return n"
   ]
  },
  {
   "cell_type": "markdown",
   "metadata": {},
   "source": [
    "##### Уточняющий расчет в районе промежутся с нужным выбросом большого количества сделок. (шаг 100 микросекунд)"
   ]
  },
  {
   "cell_type": "code",
   "execution_count": 104,
   "metadata": {
    "collapsed": true
   },
   "outputs": [],
   "source": [
    "def prog_micro(bigtimestart, delta, microdel, df=df):\n",
    "    delta = timedelta(seconds = delta)\n",
    "    transcount = 0\n",
    "    bigtime = 0\n",
    "    delta1 = timedelta(microseconds = microdel)\n",
    "#     print(delta1)\n",
    "    start1 = bigtimestart - delta\n",
    "#     print(start1)\n",
    "    stop1 = bigtimestart + delta * 2\n",
    "#     print(stop1)\n",
    "    timer1 = stop1 - start1\n",
    "#     print(timer1.seconds)\n",
    "    \n",
    "#     print(int(timer1/delta1))\n",
    "    \n",
    "    for i in range(int(timer1/delta1)):\n",
    "        time_interval = start1 + delta1 + delta\n",
    "#         print('time_interval',time_interval)\n",
    "        if time_interval <= stop1:\n",
    "            n = drouped(start1, time_interval, df).sum()\n",
    "            if n > transcount:\n",
    "                transcount = n\n",
    "                bigtime = start1 + delta1\n",
    "                bigend = time_interval\n",
    "#                 print(transcount, bigtime, bigend, bigend-bigtime)\n",
    "        else:\n",
    "            break\n",
    "        start1 = start1 + delta1\n",
    "    print(transcount, bigtime, bigend, bigend-bigtime)\n",
    "    return bigtime, bigend"
   ]
  },
  {
   "cell_type": "code",
   "execution_count": 106,
   "metadata": {},
   "outputs": [
    {
     "name": "stdout",
     "output_type": "stream",
     "text": [
      "516 1900-01-01 10:02:00.734000 1900-01-01 10:02:01.734000 0:00:01\n"
     ]
    },
    {
     "data": {
      "text/plain": [
       "(datetime.datetime(1900, 1, 1, 10, 2, 0, 734000),\n",
       " datetime.datetime(1900, 1, 1, 10, 2, 1, 734000))"
      ]
     },
     "execution_count": 106,
     "metadata": {},
     "output_type": "execute_result"
    }
   ],
   "source": [
    "prog_micro(bigtimestart, 1, 100)\n",
    "# %time"
   ]
  },
  {
   "cell_type": "markdown",
   "metadata": {},
   "source": [
    "##### Максимальное найденое число сделок за 1 секунду равняется 516 в промежутке 10:02:00.734000 10:02:01.734000"
   ]
  },
  {
   "cell_type": "markdown",
   "metadata": {},
   "source": [
    "Максимальное количество сделок (в количестве 516) в течение одной секунды было между 10:02:00.734000 и 10:02:01.734000"
   ]
  },
  {
   "cell_type": "markdown",
   "metadata": {},
   "source": [
    "##### Выводим полученное количество сделок, сгруппированное по биржам:"
   ]
  },
  {
   "cell_type": "code",
   "execution_count": 107,
   "metadata": {},
   "outputs": [
    {
     "data": {
      "text/plain": [
       "EXCHANGE\n",
       "B      1\n",
       "D     47\n",
       "J      2\n",
       "K    133\n",
       "P     41\n",
       "Q    239\n",
       "X      9\n",
       "Y      1\n",
       "Z     43\n",
       "Name: EXCHANGE, dtype: int64"
      ]
     },
     "execution_count": 107,
     "metadata": {},
     "output_type": "execute_result"
    }
   ],
   "source": [
    "drouped(datetime(1900, 1, 1, 10, 2, 0, 734000), datetime(1900, 1, 1, 10, 2, 1, 734000))"
   ]
  },
  {
   "cell_type": "markdown",
   "metadata": {},
   "source": [
    "##### Выделяем общее количество сделок по каждой бирже"
   ]
  },
  {
   "cell_type": "code",
   "execution_count": 110,
   "metadata": {},
   "outputs": [
    {
     "data": {
      "text/plain": [
       "(279, 2431, 184, 1472, 1363, 2636, 193, 302, 973)"
      ]
     },
     "execution_count": 110,
     "metadata": {},
     "output_type": "execute_result"
    }
   ],
   "source": [
    "B = df[df['EXCHANGE'] == 'B']\n",
    "D = df[df['EXCHANGE'] == 'D']\n",
    "J = df[df['EXCHANGE'] == 'J']\n",
    "K = df[df['EXCHANGE'] == 'K']\n",
    "P = df[df['EXCHANGE'] == 'P']\n",
    "Q = df[df['EXCHANGE'] == 'Q']\n",
    "X = df[df['EXCHANGE'] == 'X']\n",
    "Y = df[df['EXCHANGE'] == 'Y']\n",
    "Z = df[df['EXCHANGE'] == 'Z']\n",
    "\n",
    "B.shape[0], D.shape[0], J.shape[0], K.shape[0], P.shape[0], Q.shape[0], X.shape[0], Y.shape[0], Z.shape[0]"
   ]
  },
  {
   "cell_type": "code",
   "execution_count": 93,
   "metadata": {},
   "outputs": [],
   "source": [
    "#B # 14 - 9852\n",
    "# D # 2 - 9992\n",
    "# J # 17 - 9972\n",
    "# K # 34 - 9988\n",
    "# P # 45 - 9989\n",
    "# Q # 27 - 9980\n",
    "# X # 11 - 9977\n",
    "# Y # 12 - 9875\n",
    "# Z # 32 - 9984"
   ]
  },
  {
   "cell_type": "markdown",
   "metadata": {},
   "source": [
    "##### Биржа 'B'. Рассчет максимального числа сделок за 1 секунду."
   ]
  },
  {
   "cell_type": "code",
   "execution_count": 120,
   "metadata": {},
   "outputs": [
    {
     "name": "stdout",
     "output_type": "stream",
     "text": [
      "timer 947\n",
      "10 1900-01-01 10:13:00.877000\n"
     ]
    },
    {
     "data": {
      "text/plain": [
       "datetime.datetime(1900, 1, 1, 10, 13, 0, 877000)"
      ]
     },
     "execution_count": 120,
     "metadata": {},
     "output_type": "execute_result"
    }
   ],
   "source": [
    "firstparse(delta, B, 14, 9852)"
   ]
  },
  {
   "cell_type": "code",
   "execution_count": 122,
   "metadata": {},
   "outputs": [
    {
     "name": "stdout",
     "output_type": "stream",
     "text": [
      "11 1900-01-01 10:13:00.301000 1900-01-01 10:13:01.301000 0:00:01\n"
     ]
    },
    {
     "data": {
      "text/plain": [
       "(datetime.datetime(1900, 1, 1, 10, 13, 0, 301000),\n",
       " datetime.datetime(1900, 1, 1, 10, 13, 1, 301000))"
      ]
     },
     "execution_count": 122,
     "metadata": {},
     "output_type": "execute_result"
    }
   ],
   "source": [
    "prog_micro(datetime(1900, 1, 1, 10, 13, 0, 877000), 1, 100, B)"
   ]
  },
  {
   "cell_type": "markdown",
   "metadata": {},
   "source": [
    "Максимальное количество сделок на бирже 'B' (в количестве 11) в течение одной секунды было между 10:13:00.301000 и 10:13:01.301000"
   ]
  },
  {
   "cell_type": "markdown",
   "metadata": {},
   "source": [
    "##### Биржа 'D'. Рассчет максимального числа сделок за 1 секунду."
   ]
  },
  {
   "cell_type": "code",
   "execution_count": 127,
   "metadata": {},
   "outputs": [
    {
     "name": "stdout",
     "output_type": "stream",
     "text": [
      "47 1900-01-01 10:02:00.013000\n"
     ]
    },
    {
     "data": {
      "text/plain": [
       "datetime.datetime(1900, 1, 1, 10, 2, 0, 13000)"
      ]
     },
     "execution_count": 127,
     "metadata": {},
     "output_type": "execute_result"
    }
   ],
   "source": [
    "firstparse(delta, D, 2, 9992)"
   ]
  },
  {
   "cell_type": "code",
   "execution_count": 128,
   "metadata": {},
   "outputs": [
    {
     "name": "stdout",
     "output_type": "stream",
     "text": [
      "47 1900-01-01 10:01:59.919000 1900-01-01 10:02:00.919000 0:00:01\n"
     ]
    },
    {
     "data": {
      "text/plain": [
       "(datetime.datetime(1900, 1, 1, 10, 1, 59, 919000),\n",
       " datetime.datetime(1900, 1, 1, 10, 2, 0, 919000))"
      ]
     },
     "execution_count": 128,
     "metadata": {},
     "output_type": "execute_result"
    }
   ],
   "source": [
    "prog_micro(datetime(1900, 1, 1, 10, 2, 0, 13000), 1, 100, D)"
   ]
  },
  {
   "cell_type": "markdown",
   "metadata": {},
   "source": [
    "Максимальное количество сделок на бирже 'D' (в количестве 47) в течение одной секунды было между 10:01:59.919000 и 10:02:00.919000"
   ]
  },
  {
   "cell_type": "markdown",
   "metadata": {},
   "source": [
    "##### Биржа 'J'. Рассчет максимального числа сделок за 1 секунду."
   ]
  },
  {
   "cell_type": "code",
   "execution_count": 130,
   "metadata": {},
   "outputs": [
    {
     "name": "stdout",
     "output_type": "stream",
     "text": [
      "8 1900-01-01 10:09:54.263000\n"
     ]
    },
    {
     "data": {
      "text/plain": [
       "datetime.datetime(1900, 1, 1, 10, 9, 54, 263000)"
      ]
     },
     "execution_count": 130,
     "metadata": {},
     "output_type": "execute_result"
    }
   ],
   "source": [
    "firstparse(delta, J, 17, 9972)"
   ]
  },
  {
   "cell_type": "code",
   "execution_count": 131,
   "metadata": {},
   "outputs": [
    {
     "name": "stdout",
     "output_type": "stream",
     "text": [
      "8 1900-01-01 10:09:53.387000 1900-01-01 10:09:54.387000 0:00:01\n"
     ]
    },
    {
     "data": {
      "text/plain": [
       "(datetime.datetime(1900, 1, 1, 10, 9, 53, 387000),\n",
       " datetime.datetime(1900, 1, 1, 10, 9, 54, 387000))"
      ]
     },
     "execution_count": 131,
     "metadata": {},
     "output_type": "execute_result"
    }
   ],
   "source": [
    "prog_micro(datetime(1900, 1, 1, 10, 9, 54, 263000), 1, 100, J)"
   ]
  },
  {
   "cell_type": "markdown",
   "metadata": {},
   "source": [
    "Максимальное количество сделок на бирже 'J' (в количестве 8) в течение одной секунды было между 10:09:53.387000 и 10:09:54.387000"
   ]
  },
  {
   "cell_type": "markdown",
   "metadata": {},
   "source": [
    "##### Биржа 'K'. Рассчет максимального числа сделок за 1 секунду."
   ]
  },
  {
   "cell_type": "code",
   "execution_count": 132,
   "metadata": {},
   "outputs": [
    {
     "name": "stdout",
     "output_type": "stream",
     "text": [
      "133 1900-01-01 10:02:00.717000\n"
     ]
    },
    {
     "data": {
      "text/plain": [
       "datetime.datetime(1900, 1, 1, 10, 2, 0, 717000)"
      ]
     },
     "execution_count": 132,
     "metadata": {},
     "output_type": "execute_result"
    }
   ],
   "source": [
    "# K # 34 - 9988\n",
    "firstparse(delta, K, 34, 9988)"
   ]
  },
  {
   "cell_type": "code",
   "execution_count": 133,
   "metadata": {},
   "outputs": [
    {
     "name": "stdout",
     "output_type": "stream",
     "text": [
      "133 1900-01-01 10:02:00.449000 1900-01-01 10:02:01.449000 0:00:01\n"
     ]
    },
    {
     "data": {
      "text/plain": [
       "(datetime.datetime(1900, 1, 1, 10, 2, 0, 449000),\n",
       " datetime.datetime(1900, 1, 1, 10, 2, 1, 449000))"
      ]
     },
     "execution_count": 133,
     "metadata": {},
     "output_type": "execute_result"
    }
   ],
   "source": [
    "prog_micro(datetime(1900, 1, 1, 10, 2, 0, 717000), 1, 100, K)"
   ]
  },
  {
   "cell_type": "markdown",
   "metadata": {},
   "source": [
    "Максимальное количество сделок на бирже 'K' (в количестве 133) в течение одной секунды было между 10:02:00.44900 и 10:02:01.449000"
   ]
  },
  {
   "cell_type": "markdown",
   "metadata": {},
   "source": [
    "##### Биржа 'P'. Рассчет максимального числа сделок за 1 секунду."
   ]
  },
  {
   "cell_type": "markdown",
   "metadata": {},
   "source": [
    "Предварительный расчёт с шагом 1 секунда:"
   ]
  },
  {
   "cell_type": "code",
   "execution_count": 135,
   "metadata": {},
   "outputs": [
    {
     "name": "stdout",
     "output_type": "stream",
     "text": [
      "52 1900-01-01 10:14:23.718000\n"
     ]
    },
    {
     "data": {
      "text/plain": [
       "datetime.datetime(1900, 1, 1, 10, 14, 23, 718000)"
      ]
     },
     "execution_count": 135,
     "metadata": {},
     "output_type": "execute_result"
    }
   ],
   "source": [
    "# P # 45 - 9989\n",
    "firstparse(delta, P, 45, 9989)"
   ]
  },
  {
   "cell_type": "markdown",
   "metadata": {},
   "source": [
    "Уточняющий расчёт с шагом 100 микросекунд:"
   ]
  },
  {
   "cell_type": "code",
   "execution_count": 136,
   "metadata": {},
   "outputs": [
    {
     "name": "stdout",
     "output_type": "stream",
     "text": [
      "55 1900-01-01 10:14:23.482000 1900-01-01 10:14:24.482000 0:00:01\n"
     ]
    },
    {
     "data": {
      "text/plain": [
       "(datetime.datetime(1900, 1, 1, 10, 14, 23, 482000),\n",
       " datetime.datetime(1900, 1, 1, 10, 14, 24, 482000))"
      ]
     },
     "execution_count": 136,
     "metadata": {},
     "output_type": "execute_result"
    }
   ],
   "source": [
    "prog_micro(datetime(1900, 1, 1, 10, 14, 23, 718000), 1, 100, P)"
   ]
  },
  {
   "cell_type": "markdown",
   "metadata": {},
   "source": [
    "Максимальное количество сделок на бирже 'P' (в количестве 55) в течение одной секунды было между 10:14:23.482000 и 10:14:24.482000"
   ]
  },
  {
   "cell_type": "markdown",
   "metadata": {},
   "source": [
    "##### Биржа 'Q'. Рассчет максимального числа сделок за 1 секунду."
   ]
  },
  {
   "cell_type": "code",
   "execution_count": 140,
   "metadata": {},
   "outputs": [
    {
     "name": "stdout",
     "output_type": "stream",
     "text": [
      "231 1900-01-01 10:02:00.717000\n"
     ]
    },
    {
     "data": {
      "text/plain": [
       "datetime.datetime(1900, 1, 1, 10, 2, 0, 717000)"
      ]
     },
     "execution_count": 140,
     "metadata": {},
     "output_type": "execute_result"
    }
   ],
   "source": [
    "# Q # 27 - 9980\n",
    "firstparse(delta, Q, 27, 9980)"
   ]
  },
  {
   "cell_type": "code",
   "execution_count": 141,
   "metadata": {},
   "outputs": [
    {
     "name": "stdout",
     "output_type": "stream",
     "text": [
      "243 1900-01-01 10:02:00.109000 1900-01-01 10:02:01.109000 0:00:01\n"
     ]
    },
    {
     "data": {
      "text/plain": [
       "(datetime.datetime(1900, 1, 1, 10, 2, 0, 109000),\n",
       " datetime.datetime(1900, 1, 1, 10, 2, 1, 109000))"
      ]
     },
     "execution_count": 141,
     "metadata": {},
     "output_type": "execute_result"
    }
   ],
   "source": [
    "prog_micro(datetime(1900, 1, 1, 10, 2, 0, 717000), 1, 100, Q)"
   ]
  },
  {
   "cell_type": "markdown",
   "metadata": {},
   "source": [
    "Максимальное количество сделок на бирже 'Q' (в количестве 243) в течение одной секунды было между 10:02:00.109000 и 10:02:01.109000"
   ]
  },
  {
   "cell_type": "markdown",
   "metadata": {},
   "source": [
    "##### Биржа 'X'. Рассчет максимального числа сделок за 1 секунду."
   ]
  },
  {
   "cell_type": "code",
   "execution_count": 143,
   "metadata": {},
   "outputs": [
    {
     "name": "stdout",
     "output_type": "stream",
     "text": [
      "7 1900-01-01 10:02:01.469000\n"
     ]
    },
    {
     "data": {
      "text/plain": [
       "datetime.datetime(1900, 1, 1, 10, 2, 1, 469000)"
      ]
     },
     "execution_count": 143,
     "metadata": {},
     "output_type": "execute_result"
    }
   ],
   "source": [
    "# X # 11 - 9977\n",
    "firstparse(delta, X, 11, 9977)"
   ]
  },
  {
   "cell_type": "code",
   "execution_count": 144,
   "metadata": {},
   "outputs": [
    {
     "name": "stdout",
     "output_type": "stream",
     "text": [
      "9 1900-01-01 10:02:00.694000 1900-01-01 10:02:01.694000 0:00:01\n"
     ]
    },
    {
     "data": {
      "text/plain": [
       "(datetime.datetime(1900, 1, 1, 10, 2, 0, 694000),\n",
       " datetime.datetime(1900, 1, 1, 10, 2, 1, 694000))"
      ]
     },
     "execution_count": 144,
     "metadata": {},
     "output_type": "execute_result"
    }
   ],
   "source": [
    "prog_micro(datetime(1900, 1, 1, 10, 2, 1, 469000), 1, 100, X)"
   ]
  },
  {
   "cell_type": "markdown",
   "metadata": {},
   "source": [
    "Максимальное количество сделок на бирже 'X' (в количестве 9) в течение одной секунды было между 10:02:00.694000 и 10:02:01.694000"
   ]
  },
  {
   "cell_type": "markdown",
   "metadata": {},
   "source": [
    "##### Биржа 'Y'. Рассчет максимального числа сделок за 1 секунду."
   ]
  },
  {
   "cell_type": "code",
   "execution_count": 145,
   "metadata": {},
   "outputs": [
    {
     "name": "stdout",
     "output_type": "stream",
     "text": [
      "12 1900-01-01 10:09:54.045000\n"
     ]
    },
    {
     "data": {
      "text/plain": [
       "datetime.datetime(1900, 1, 1, 10, 9, 54, 45000)"
      ]
     },
     "execution_count": 145,
     "metadata": {},
     "output_type": "execute_result"
    }
   ],
   "source": [
    "# Y # 12 - 9875\n",
    "firstparse(delta, Y, 12, 9875)"
   ]
  },
  {
   "cell_type": "code",
   "execution_count": 147,
   "metadata": {},
   "outputs": [
    {
     "name": "stdout",
     "output_type": "stream",
     "text": [
      "12 1900-01-01 10:09:53.391000 1900-01-01 10:09:54.391000 0:00:01\n"
     ]
    },
    {
     "data": {
      "text/plain": [
       "(datetime.datetime(1900, 1, 1, 10, 9, 53, 391000),\n",
       " datetime.datetime(1900, 1, 1, 10, 9, 54, 391000))"
      ]
     },
     "execution_count": 147,
     "metadata": {},
     "output_type": "execute_result"
    }
   ],
   "source": [
    "prog_micro(datetime(1900, 1, 1, 10, 9, 54, 45000), 1, 100, Y)"
   ]
  },
  {
   "cell_type": "markdown",
   "metadata": {},
   "source": [
    "Максимальное количество сделок на бирже 'Y' (в количестве 12) в течение одной секунды было между 10:09:53.391000 и 10:09:54.391000"
   ]
  },
  {
   "cell_type": "markdown",
   "metadata": {},
   "source": [
    "##### Биржа 'Z'. Рассчет максимального числа сделок за 1 секунду."
   ]
  },
  {
   "cell_type": "code",
   "execution_count": 151,
   "metadata": {},
   "outputs": [
    {
     "name": "stdout",
     "output_type": "stream",
     "text": [
      "43 1900-01-01 10:02:00.717000\n"
     ]
    },
    {
     "data": {
      "text/plain": [
       "datetime.datetime(1900, 1, 1, 10, 2, 0, 717000)"
      ]
     },
     "execution_count": 151,
     "metadata": {},
     "output_type": "execute_result"
    }
   ],
   "source": [
    "# Z # 32 - 9984\n",
    "firstparse(delta, Z, 32, 9984)"
   ]
  },
  {
   "cell_type": "code",
   "execution_count": 152,
   "metadata": {},
   "outputs": [
    {
     "name": "stdout",
     "output_type": "stream",
     "text": [
      "43 1900-01-01 10:02:00.110000 1900-01-01 10:02:01.110000 0:00:01\n"
     ]
    },
    {
     "data": {
      "text/plain": [
       "(datetime.datetime(1900, 1, 1, 10, 2, 0, 110000),\n",
       " datetime.datetime(1900, 1, 1, 10, 2, 1, 110000))"
      ]
     },
     "execution_count": 152,
     "metadata": {},
     "output_type": "execute_result"
    }
   ],
   "source": [
    "prog_micro(datetime(1900, 1, 1, 10, 2, 0, 717000), 1, 100, Z)"
   ]
  },
  {
   "cell_type": "markdown",
   "metadata": {},
   "source": [
    "Максимальное количество сделок на бирже 'Z' (в количестве 43) в течение одной секунды было между 10:02:00.110000 и 10:02:01.110000"
   ]
  },
  {
   "cell_type": "code",
   "execution_count": null,
   "metadata": {
    "collapsed": true
   },
   "outputs": [],
   "source": []
  }
 ],
 "metadata": {
  "kernelspec": {
   "display_name": "Python 3",
   "language": "python",
   "name": "python3"
  },
  "language_info": {
   "codemirror_mode": {
    "name": "ipython",
    "version": 3
   },
   "file_extension": ".py",
   "mimetype": "text/x-python",
   "name": "python",
   "nbconvert_exporter": "python",
   "pygments_lexer": "ipython3",
   "version": "3.6.1"
  }
 },
 "nbformat": 4,
 "nbformat_minor": 2
}
