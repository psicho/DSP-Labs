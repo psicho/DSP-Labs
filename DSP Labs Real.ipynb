{
 "cells": [
  {
   "cell_type": "markdown",
   "metadata": {},
   "source": [
    "##### Функция выборки и обработки файлов"
   ]
  },
  {
   "cell_type": "code",
   "execution_count": 5,
   "metadata": {
    "collapsed": true
   },
   "outputs": [],
   "source": [
    "import os\n",
    "\n",
    "def analise(file):\n",
    "    files = os.listdir(path=file)\n",
    "    person = []\n",
    "    table = []\n",
    "    temp = []\n",
    "    for i in range(len(files)):\n",
    "        person.append(str(files[i])[:4])\n",
    "        with open(file+'/'+files[i],'r') as f:\n",
    "            for line in f:\n",
    "                line = str(line).replace(' [ ','').replace(' ]','').replace('\\n','')\n",
    "                line = line.split(' ')\n",
    "                for j in range(len(line)):\n",
    "                    line[j] = float(line[j])\n",
    "                table.append(line)\n",
    "    return person, table"
   ]
  },
  {
   "cell_type": "markdown",
   "metadata": {},
   "source": [
    "##### Импорт библиотек"
   ]
  },
  {
   "cell_type": "code",
   "execution_count": 6,
   "metadata": {
    "collapsed": true
   },
   "outputs": [],
   "source": [
    "import numpy as np\n",
    "import matplotlib.pyplot as plt\n",
    "%matplotlib inline\n",
    "import pandas as pd\n",
    "# import mglearn\n",
    "from IPython.display import display\n",
    "plt.rc('font', family='Verdana')\n",
    "import sklearn"
   ]
  },
  {
   "cell_type": "markdown",
   "metadata": {},
   "source": [
    "##### Обработка тестовой выборки"
   ]
  },
  {
   "cell_type": "code",
   "execution_count": 7,
   "metadata": {},
   "outputs": [
    {
     "name": "stdout",
     "output_type": "stream",
     "text": [
      "953 953\n",
      "['0095' '0095' '0095' '0095' '0095' '0095' '0095' '0095' '0095' '0096']\n",
      "[ 2.1516    0.643147  1.1872   -0.396718 -1.92148   1.68661   2.19098\n",
      "  0.75515  -2.07515   0.736695]\n"
     ]
    }
   ],
   "source": [
    "person, table = analise('test_db')\n",
    "# print(person1[:10])\n",
    "person = np.array(person)\n",
    "table = np.array(table)\n",
    "\n",
    "print(len(person), len(table))\n",
    "print(person[:10])\n",
    "print(table[0][:10])\n",
    "\n",
    "# print(len(table[0]))\n",
    "# print(len(table[1]))\n",
    "# print(len(person))\n",
    "# print(len(table))\n",
    "# print(person)"
   ]
  },
  {
   "cell_type": "code",
   "execution_count": 28,
   "metadata": {},
   "outputs": [
    {
     "name": "stdout",
     "output_type": "stream",
     "text": [
      "(953,) (953, 400)\n"
     ]
    }
   ],
   "source": [
    "print(person.shape, table.shape)"
   ]
  },
  {
   "cell_type": "markdown",
   "metadata": {},
   "source": [
    "##### Обработка обучающей выборки"
   ]
  },
  {
   "cell_type": "code",
   "execution_count": 5,
   "metadata": {},
   "outputs": [
    {
     "name": "stdout",
     "output_type": "stream",
     "text": [
      "52284 52284\n",
      "['0001' '0001' '0001' '0001' '0001' '0001' '0001' '0001' '0001' '0001']\n",
      "[ 1.76204   1.7534   -0.558433  0.746582 -2.34514   1.54503   0.918075\n",
      " -0.998263 -1.50152   1.25771 ]\n"
     ]
    }
   ],
   "source": [
    "person1, table1 = analise('train_db')\n",
    "# print(person1[:10])\n",
    "person1 = np.array(person1)\n",
    "table1 = np.array(table1)\n",
    "\n",
    "print(len(person1), len(table1))\n",
    "print(person1[:10])\n",
    "print(table1[0][:10])"
   ]
  },
  {
   "cell_type": "code",
   "execution_count": 6,
   "metadata": {},
   "outputs": [
    {
     "data": {
      "text/plain": [
       "((52284,), (52284, 400))"
      ]
     },
     "execution_count": 6,
     "metadata": {},
     "output_type": "execute_result"
    }
   ],
   "source": [
    "person1.shape, table1.shape"
   ]
  },
  {
   "cell_type": "markdown",
   "metadata": {},
   "source": [
    "##### Линейные модели для мультиклассовой классификации"
   ]
  },
  {
   "cell_type": "code",
   "execution_count": 7,
   "metadata": {
    "collapsed": true
   },
   "outputs": [],
   "source": [
    "# from sklearn.model_selection import LogisticRegression\n",
    "from sklearn.linear_model import LogisticRegression\n",
    "# from sklearn.svm import LinearSVC"
   ]
  },
  {
   "cell_type": "code",
   "execution_count": 8,
   "metadata": {
    "collapsed": true
   },
   "outputs": [],
   "source": [
    "from sklearn.model_selection import train_test_split"
   ]
  },
  {
   "cell_type": "markdown",
   "metadata": {},
   "source": [
    "Разбиваем обучающую выборку на обучающую и тестовую (для проверки)"
   ]
  },
  {
   "cell_type": "code",
   "execution_count": 9,
   "metadata": {
    "collapsed": true
   },
   "outputs": [],
   "source": [
    "X_train, X_test, y_train, y_test = train_test_split(table1, person1, random_state=0)\n",
    "\n",
    "logreg = LogisticRegression(C=10).fit(X_train, y_train)"
   ]
  },
  {
   "cell_type": "code",
   "execution_count": 10,
   "metadata": {},
   "outputs": [
    {
     "name": "stdout",
     "output_type": "stream",
     "text": [
      "Правильность на обучающем наборе: 1.000\n",
      "Правильность на тестовом наборе: 0.974\n"
     ]
    }
   ],
   "source": [
    "print(\"Правильность на обучающем наборе: {:.3f}\".format(logreg.score(X_train, y_train)))\n",
    "print(\"Правильность на тестовом наборе: {:.3f}\".format(logreg.score(X_test, y_test)))"
   ]
  },
  {
   "cell_type": "markdown",
   "metadata": {},
   "source": [
    "Сохраняем обученную модель"
   ]
  },
  {
   "cell_type": "code",
   "execution_count": 12,
   "metadata": {},
   "outputs": [
    {
     "data": {
      "text/plain": [
       "['LinClassif.pkl']"
      ]
     },
     "execution_count": 12,
     "metadata": {},
     "output_type": "execute_result"
    }
   ],
   "source": [
    "from sklearn.externals import joblib\n",
    "joblib.dump(logreg, 'LinClassif.pkl') "
   ]
  },
  {
   "cell_type": "code",
   "execution_count": 3,
   "metadata": {},
   "outputs": [],
   "source": [
    "from sklearn.externals import joblib\n",
    "logreg = joblib.load('LinClassif.pkl')"
   ]
  },
  {
   "cell_type": "code",
   "execution_count": 11,
   "metadata": {},
   "outputs": [
    {
     "name": "stdout",
     "output_type": "stream",
     "text": [
      "0.015739769150052464\n"
     ]
    }
   ],
   "source": [
    "predict = logreg.predict(table)\n",
    "\n",
    "err1 = []\n",
    "err2 = []\n",
    "ok = []\n",
    "\n",
    "for i in range(len(predict)):\n",
    "    for j in range(len(predict)):\n",
    "        if i == j:\n",
    "            continue\n",
    "    if predict[i] != predict[j] and person[i] == person[j]:\n",
    "        err1.append(1)\n",
    "    elif predict[i] == predict[j] and person[i] != person[j]:\n",
    "        err2.append(1)\n",
    "    elif predict[i] == predict[j] and person[i] == person[j]:\n",
    "        ok.append(1)\n",
    "\n",
    "print((len(err1) + len(err2)) / len(person))"
   ]
  },
  {
   "cell_type": "code",
   "execution_count": 12,
   "metadata": {},
   "outputs": [
    {
     "name": "stdout",
     "output_type": "stream",
     "text": [
      "ERR на тестовом наборе: 1.574%\n"
     ]
    }
   ],
   "source": [
    "print(\"ERR на тестовом наборе: {:.3f}%\".format((len(err1) + len(err2)) / len(person) * 100))"
   ]
  }
 ],
 "metadata": {
  "anaconda-cloud": {},
  "kernelspec": {
   "display_name": "Python 3",
   "language": "python",
   "name": "python3"
  },
  "language_info": {
   "codemirror_mode": {
    "name": "ipython",
    "version": 3
   },
   "file_extension": ".py",
   "mimetype": "text/x-python",
   "name": "python",
   "nbconvert_exporter": "python",
   "pygments_lexer": "ipython3",
   "version": "3.6.1"
  }
 },
 "nbformat": 4,
 "nbformat_minor": 1
}
