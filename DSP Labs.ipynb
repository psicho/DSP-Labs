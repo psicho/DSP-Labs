{
 "cells": [
  {
   "cell_type": "markdown",
   "metadata": {},
   "source": [
    "##### Функция выборки и обработки файлов"
   ]
  },
  {
   "cell_type": "code",
   "execution_count": 6,
   "metadata": {
    "collapsed": true
   },
   "outputs": [],
   "source": [
    "import os\n",
    "\n",
    "def analise(file):\n",
    "    files = os.listdir(path=file)\n",
    "    person = []\n",
    "    table = []\n",
    "    temp = []\n",
    "    for i in range(len(files)):\n",
    "        person.append(str(files[i])[:4])\n",
    "        with open(file+'/'+files[i],'r') as f:\n",
    "            for line in f:\n",
    "                line = str(line).replace(' [ ','').replace(' ]','').replace('\\n','')\n",
    "                line = line.split(' ')\n",
    "                for j in range(len(line)):\n",
    "                    line[j] = float(line[j])\n",
    "                table.append(line)\n",
    "    return person, table"
   ]
  },
  {
   "cell_type": "markdown",
   "metadata": {},
   "source": [
    "##### Импорт библиотек"
   ]
  },
  {
   "cell_type": "code",
   "execution_count": 5,
   "metadata": {
    "collapsed": true
   },
   "outputs": [],
   "source": [
    "import numpy as np\n",
    "import matplotlib.pyplot as plt\n",
    "%matplotlib inline\n",
    "import pandas as pd\n",
    "# import mglearn\n",
    "from IPython.display import display\n",
    "plt.rc('font', family='Verdana')\n",
    "import sklearn"
   ]
  },
  {
   "cell_type": "markdown",
   "metadata": {},
   "source": [
    "##### Обработка тестовой выборки"
   ]
  },
  {
   "cell_type": "code",
   "execution_count": 7,
   "metadata": {},
   "outputs": [
    {
     "name": "stdout",
     "output_type": "stream",
     "text": [
      "953 953\n",
      "['0095' '0095' '0095' '0095' '0095' '0095' '0095' '0095' '0095' '0096']\n",
      "[ 2.1516    0.643147  1.1872   -0.396718 -1.92148   1.68661   2.19098\n",
      "  0.75515  -2.07515   0.736695]\n"
     ]
    }
   ],
   "source": [
    "person, table = analise('test_db')\n",
    "# print(person1[:10])\n",
    "person = np.array(person)\n",
    "table = np.array(table)\n",
    "\n",
    "print(len(person), len(table))\n",
    "print(person[:10])\n",
    "print(table[0][:10])\n",
    "\n",
    "# print(len(table[0]))\n",
    "# print(len(table[1]))\n",
    "# print(len(person))\n",
    "# print(len(table))\n",
    "# print(person)"
   ]
  },
  {
   "cell_type": "code",
   "execution_count": 8,
   "metadata": {},
   "outputs": [
    {
     "name": "stdout",
     "output_type": "stream",
     "text": [
      "(953,) (953, 400)\n"
     ]
    }
   ],
   "source": [
    "print(person.shape, table.shape)"
   ]
  },
  {
   "cell_type": "markdown",
   "metadata": {},
   "source": [
    "##### Обработка обучающей выборки"
   ]
  },
  {
   "cell_type": "code",
   "execution_count": 9,
   "metadata": {},
   "outputs": [
    {
     "name": "stdout",
     "output_type": "stream",
     "text": [
      "52284 52284\n",
      "['0001' '0001' '0001' '0001' '0001' '0001' '0001' '0001' '0001' '0001']\n",
      "[ 1.76204   1.7534   -0.558433  0.746582 -2.34514   1.54503   0.918075\n",
      " -0.998263 -1.50152   1.25771 ]\n"
     ]
    }
   ],
   "source": [
    "person1, table1 = analise('train_db')\n",
    "# print(person1[:10])\n",
    "person1 = np.array(person1)\n",
    "table1 = np.array(table1)\n",
    "\n",
    "print(len(person1), len(table1))\n",
    "print(person1[:10])\n",
    "print(table1[0][:10])"
   ]
  },
  {
   "cell_type": "code",
   "execution_count": 10,
   "metadata": {},
   "outputs": [
    {
     "name": "stdout",
     "output_type": "stream",
     "text": [
      "(52284,) (52284, 400)\n"
     ]
    }
   ],
   "source": [
    "print(person1.shape, table1.shape)"
   ]
  },
  {
   "cell_type": "markdown",
   "metadata": {},
   "source": [
    "##### Загрузка моделей машинного обучения"
   ]
  },
  {
   "cell_type": "code",
   "execution_count": 14,
   "metadata": {
    "collapsed": true
   },
   "outputs": [],
   "source": [
    "from sklearn.model_selection import train_test_split\n",
    "from sklearn.neighbors import KNeighborsClassifier"
   ]
  },
  {
   "cell_type": "markdown",
   "metadata": {},
   "source": [
    "Разбиваем обучающую выборку на обучающую и тестовую "
   ]
  },
  {
   "cell_type": "code",
   "execution_count": 14,
   "metadata": {},
   "outputs": [
    {
     "data": {
      "text/plain": [
       "KNeighborsClassifier(algorithm='auto', leaf_size=30, metric='minkowski',\n",
       "           metric_params=None, n_jobs=1, n_neighbors=1, p=2,\n",
       "           weights='uniform')"
      ]
     },
     "execution_count": 14,
     "metadata": {},
     "output_type": "execute_result"
    }
   ],
   "source": [
    "X_train, X_test, y_train, y_test = train_test_split(\n",
    "table1, person1, random_state=0)\n",
    "\n",
    "knn = KNeighborsClassifier(n_neighbors=1)\n",
    "knn.fit(X_train, y_train)"
   ]
  },
  {
   "cell_type": "code",
   "execution_count": 15,
   "metadata": {},
   "outputs": [
    {
     "name": "stdout",
     "output_type": "stream",
     "text": [
      "Правильность на тестовом наборе: 0.96\n"
     ]
    }
   ],
   "source": [
    "print(\"Правильность на тестовом наборе: {:.2f}\".format(knn.score(X_test, y_test)))"
   ]
  },
  {
   "cell_type": "markdown",
   "metadata": {},
   "source": [
    "Обучаемся на тренировочной выборке"
   ]
  },
  {
   "cell_type": "code",
   "execution_count": 24,
   "metadata": {},
   "outputs": [
    {
     "data": {
      "text/plain": [
       "KNeighborsClassifier(algorithm='auto', leaf_size=30, metric='minkowski',\n",
       "           metric_params=None, n_jobs=1, n_neighbors=400, p=2,\n",
       "           weights='uniform')"
      ]
     },
     "execution_count": 24,
     "metadata": {},
     "output_type": "execute_result"
    }
   ],
   "source": [
    "knn = KNeighborsClassifier(n_neighbors=400)\n",
    "knn.fit(table1, person1)"
   ]
  },
  {
   "cell_type": "code",
   "execution_count": 25,
   "metadata": {},
   "outputs": [
    {
     "name": "stdout",
     "output_type": "stream",
     "text": [
      "Правильность на тестовом наборе: 0.00\n"
     ]
    }
   ],
   "source": [
    "print(\"Правильность на тестовом наборе: {:.2f}\".format(knn.score(table, person)))"
   ]
  },
  {
   "cell_type": "code",
   "execution_count": 21,
   "metadata": {
    "collapsed": true
   },
   "outputs": [],
   "source": [
    "# print(\"Прогнозы для тестового набора:\\n{}\".format(knn.predict(table)))"
   ]
  },
  {
   "cell_type": "code",
   "execution_count": 3,
   "metadata": {},
   "outputs": [],
   "source": [
    "# print(person[:10])"
   ]
  },
  {
   "cell_type": "markdown",
   "metadata": {},
   "source": [
    "##### Линейные модели для мультиклассовой классификации"
   ]
  },
  {
   "cell_type": "code",
   "execution_count": 12,
   "metadata": {
    "collapsed": true
   },
   "outputs": [],
   "source": [
    "# from sklearn.model_selection import LogisticRegression\n",
    "from sklearn.linear_model import LogisticRegression\n",
    "from sklearn.svm import LinearSVC"
   ]
  },
  {
   "cell_type": "markdown",
   "metadata": {},
   "source": [
    "Обучаемся на тренировочной выборке с коэфициентом С=100"
   ]
  },
  {
   "cell_type": "code",
   "execution_count": 12,
   "metadata": {
    "collapsed": true
   },
   "outputs": [],
   "source": [
    "logreg = LogisticRegression(C=100).fit(table1, person1)"
   ]
  },
  {
   "cell_type": "markdown",
   "metadata": {},
   "source": [
    "Правильность на тестовом наборе по прежнему 0% (?)"
   ]
  },
  {
   "cell_type": "code",
   "execution_count": 13,
   "metadata": {
    "scrolled": true
   },
   "outputs": [
    {
     "name": "stdout",
     "output_type": "stream",
     "text": [
      "Правильность на тестовом наборе: 0.00\n"
     ]
    }
   ],
   "source": [
    "print(\"Правильность на тестовом наборе: {:.2f}\".format(logreg.score(table, person)))"
   ]
  },
  {
   "cell_type": "markdown",
   "metadata": {},
   "source": [
    "Разбиваем обучающую выборку на обучающую и тестовую (для проверки)"
   ]
  },
  {
   "cell_type": "code",
   "execution_count": 16,
   "metadata": {},
   "outputs": [],
   "source": [
    "X_train, X_test, y_train, y_test = train_test_split(\n",
    "table1, person1, random_state=0)\n",
    "\n",
    "logreg = LogisticRegression(C=10).fit(X_train, y_train)"
   ]
  },
  {
   "cell_type": "code",
   "execution_count": 17,
   "metadata": {},
   "outputs": [
    {
     "name": "stdout",
     "output_type": "stream",
     "text": [
      "Правильность на тестовом наборе: 0.97\n"
     ]
    }
   ],
   "source": [
    "print(\"Правильность на тестовом наборе: {:.2f}\".format(logreg.score(X_test, y_test)))"
   ]
  },
  {
   "cell_type": "code",
   "execution_count": null,
   "metadata": {
    "collapsed": true
   },
   "outputs": [],
   "source": []
  }
 ],
 "metadata": {
  "anaconda-cloud": {},
  "kernelspec": {
   "display_name": "Python 3",
   "language": "python",
   "name": "python3"
  },
  "language_info": {
   "codemirror_mode": {
    "name": "ipython",
    "version": 3
   },
   "file_extension": ".py",
   "mimetype": "text/x-python",
   "name": "python",
   "nbconvert_exporter": "python",
   "pygments_lexer": "ipython3",
   "version": "3.6.1"
  }
 },
 "nbformat": 4,
 "nbformat_minor": 1
}
